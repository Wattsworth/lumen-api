{
 "cells": [
  {
   "cell_type": "code",
   "execution_count": 10,
   "id": "be19494a-9aa1-47e1-943c-50a6a13fcb2f",
   "metadata": {},
   "outputs": [],
   "source": [
    "import joule\n",
    "import requests\n",
    "import json"
   ]
  },
  {
   "cell_type": "code",
   "execution_count": 11,
   "id": "8ab34a29-f046-45d2-b45b-d08ffef4147b",
   "metadata": {},
   "outputs": [
    {
     "name": "stdout",
     "output_type": "stream",
     "text": [
      "0 top level folders\n"
     ]
    }
   ],
   "source": [
    "node = joule.api.get_node()\n",
    "root = await node.folder_get('/')\n",
    "\n",
    "# flush the database\n",
    "for child in root.children:\n",
    "    await node.folder_delete(child,recursive=True)\n",
    "root = await node.folder_get('/')\n",
    "root = await node.folder_get('/')\n",
    "\n",
    "print(f\"{len(root.children)} top level folders\")\n"
   ]
  },
  {
   "cell_type": "code",
   "execution_count": 12,
   "id": "b45e0f20-4544-4368-8e72-5b51c82254bd",
   "metadata": {},
   "outputs": [],
   "source": [
    "async def save_schema(filename):\n",
    "    master = await node.master_add(master_type=\"user\",identifier=\"jupyter\")\n",
    "    resp = requests.get(\"https://127.0.0.1:8088/folders.json\", verify=False,\n",
    "                 headers={\"X-API-KEY\": master.key})\n",
    "    await node.master_delete(master_type=\"user\",name=\"jupyter\")\n",
    "    \n",
    "    with open(filename,\"w\") as f:\n",
    "        f.write(json.dumps(resp.json(),indent=2))"
   ]
  },
  {
   "cell_type": "markdown",
   "id": "87321b76-0df4-475b-a3b2-e0c87afdb8d2",
   "metadata": {},
   "source": [
    "### Test Database Schema: \n",
    "\n",
    "<pre>\n",
    "root\n",
    "├── folder_1\n",
    "│   ├── stream_1_1: float32_3\n",
    "│   └── stream_1_2: uint8_3\n",
    "├── folder_2\n",
    "│   └── stream_2_1: int16_2\n",
    "│   └── transients (event stream)\n",
    "│   └── loads (event stream)\n",
    "├── folder_3\n",
    "│   ├── folder_3_1\n",
    "│   │   └── stream_3_1_1: int32_3\n",
    "│   └── stream_3_1: uint16_3\n",
    "└── folder_4\n",
    "    └── folder_4_1\n",
    "</pre>\n"
   ]
  },
  {
   "cell_type": "code",
   "execution_count": 13,
   "id": "d5c820d5-6e93-4bea-9d9c-da166e68c69b",
   "metadata": {},
   "outputs": [
    {
     "name": "stderr",
     "output_type": "stream",
     "text": [
      "/home/ubuntu/joule/lib/python3.10/site-packages/urllib3/connectionpool.py:1095: InsecureRequestWarning: Unverified HTTPS request is being made to host '127.0.0.1'. Adding certificate verification is strongly advised. See: https://urllib3.readthedocs.io/en/latest/advanced-usage.html#tls-warnings\n",
      "  warnings.warn(\n"
     ]
    }
   ],
   "source": [
    "\n",
    "stream_1_1 = joule.api.DataStream(\"stream_1_1\",elements=[joule.api.Element(x) for x in \"xyz\"])\n",
    "stream_1_1.elements[0].default_max=100\n",
    "stream_1_1.elements[0].display_type=\"continuous\"\n",
    "stream_1_1.elements[1].default_min=-6\n",
    "stream_1_1.elements[1].display_type=\"event\"\n",
    "stream_1_1.elements[2].units=\"watts\"\n",
    "stream_1_1.elements[2].display_type=\"discrete\"\n",
    "\n",
    "stream_1_2 = joule.api.DataStream(\"stream_1_2\",datatype=\"uint8\",elements=[joule.api.Element(f\"{i}\") for i in range(3)])\n",
    "stream_2_1 = joule.api.DataStream(\"stream_2_1\",datatype=\"int16\",elements=[joule.api.Element(f\"{i}\") for i in range(2)])\n",
    "stream_3_1 = joule.api.DataStream(\"stream_3_1\",datatype=\"uint16\",elements=[joule.api.Element(f\"{i}\") for i in range(3)])\n",
    "stream_3_1_1 = joule.api.DataStream(\"stream_3_1_1\",datatype=\"int32\",elements=[joule.api.Element(f\"{i}\") for i in range(3)])\n",
    "stream_4_1_1 = joule.api.DataStream(\"stream_4_1\",datatype=\"uint16\",elements=[joule.api.Element(f\"{i}\") for i in range(3)])\n",
    "transient_events = joule.api.EventStream(\"transients\")\n",
    "load_events = joule.api.EventStream(\"loads\")\n",
    "stream_1_1 = await node.data_stream_create(stream_1_1,\"/folder_1\")\n",
    "stream_1_2 = await node.data_stream_create(stream_1_2,\"/folder_1\")\n",
    "stream_2_1 = await node.data_stream_create(stream_2_1,\"/folder_2\")\n",
    "stream_3_1 = await node.data_stream_create(stream_3_1,\"/folder_3\")\n",
    "stream_3_1_1 = await node.data_stream_create(stream_3_1_1,\"/folder_3/folder_3_1\")\n",
    "transient_events =await node.event_stream_create(transient_events, \"/folder_2\")\n",
    "load_events = await node.event_stream_create(load_events, \"/folder_2\")\n",
    "\n",
    "stream_4_1_1 = await node.data_stream_create(stream_4_1_1,\"/folder_4/folder_4_1\")\n",
    "await node.data_stream_delete(stream_4_1_1)\n",
    "\n",
    "await save_schema(\"0_original_schema.json\")"
   ]
  },
  {
   "cell_type": "markdown",
   "id": "309bc30f-c6fe-4487-8c81-ecda8de953a9",
   "metadata": {},
   "source": [
    "*Update element name, data stream name, and event stream attribute*\n",
    "\n",
    "<pre>\n",
    "root *\n",
    "├── folder_1 *\n",
    "│   ├── stream_1_1: float32_3\n",
    "│   └── stream_1_2: uint8_3 *\n",
    "├── folder_2 *\n",
    "│   └── stream_2_1: int16_2\n",
    "│   └── transients (event stream) *\n",
    "│   └── loads (event stream)\n",
    "├── folder_3 *\n",
    "│   ├── folder_3_1 * \n",
    "│   │   └── stream_3_1_1: int32_3 *\n",
    "│   └── stream_3_1: uint16_3\n",
    "└── folder_4\n",
    "    └── folder_4_1\n",
    "</pre>\n"
   ]
  },
  {
   "cell_type": "code",
   "execution_count": 14,
   "id": "ac75335d-cd3d-46a5-8aa5-0fd4555efc79",
   "metadata": {},
   "outputs": [
    {
     "name": "stderr",
     "output_type": "stream",
     "text": [
      "/home/ubuntu/joule/lib/python3.10/site-packages/urllib3/connectionpool.py:1095: InsecureRequestWarning: Unverified HTTPS request is being made to host '127.0.0.1'. Adding certificate verification is strongly advised. See: https://urllib3.readthedocs.io/en/latest/advanced-usage.html#tls-warnings\n",
      "  warnings.warn(\n"
     ]
    }
   ],
   "source": [
    "stream_3_1_1.elements[0].units=\"updated_units\"\n",
    "stream_1_2.description = \"updated_description\"\n",
    "transient_events.event_fields = {'updated':'string'}\n",
    "await node.data_stream_update(stream_3_1_1)\n",
    "await node.data_stream_update(stream_1_2)\n",
    "await node.event_stream_update(transient_events)\n",
    "await save_schema(\"1_updated_schema.json\")"
   ]
  },
  {
   "cell_type": "markdown",
   "id": "8c646c6b-f53d-47a9-a89d-edffa6eefc57",
   "metadata": {},
   "source": [
    "*Move stream between two folders and move folder between two folders*\n",
    "\n",
    "<pre>\n",
    "root\n",
    "├── folder_1\n",
    "│   ├── stream_1_1: float32_3\n",
    "│   └── <== removed ==>\n",
    "├── folder_2\n",
    "│   └── stream_2_1: int16_2\n",
    "│   └── transients (event stream)\n",
    "│   └── loads (event stream)\n",
    "├── <== removed ==>\n",
    "└── folder_4\n",
    "    └── folder_4_1\n",
    "    │   └── stream_1_2: uint8_3 <== moved to\n",
    "    └── folder_3                  <== moved to\n",
    "        ├── folder_3_1\n",
    "        │   └── stream_3_1_1: int32_3\n",
    "        └── stream_3_1: uint16_3\n",
    "</pre>\n"
   ]
  },
  {
   "cell_type": "code",
   "execution_count": 16,
   "id": "3c127916-ae78-461a-bf3d-f0af66829e14",
   "metadata": {},
   "outputs": [
    {
     "ename": "ApiError",
     "evalue": "stream with the same name exists in the destination folder [400]",
     "output_type": "error",
     "traceback": [
      "\u001b[0;31m---------------------------------------------------------------------------\u001b[0m",
      "\u001b[0;31mApiError\u001b[0m                                  Traceback (most recent call last)",
      "Cell \u001b[0;32mIn[16], line 1\u001b[0m\n\u001b[0;32m----> 1\u001b[0m \u001b[38;5;28;01mawait\u001b[39;00m node\u001b[38;5;241m.\u001b[39mdata_stream_move(stream_1_2, \u001b[38;5;124m\"\u001b[39m\u001b[38;5;124m/folder_4/folder_4_1\u001b[39m\u001b[38;5;124m\"\u001b[39m)\n\u001b[1;32m      2\u001b[0m \u001b[38;5;28;01mawait\u001b[39;00m node\u001b[38;5;241m.\u001b[39mfolder_move(\u001b[38;5;124m\"\u001b[39m\u001b[38;5;124m/folder_3\u001b[39m\u001b[38;5;124m\"\u001b[39m,\u001b[38;5;124m\"\u001b[39m\u001b[38;5;124m/folder_4\u001b[39m\u001b[38;5;124m\"\u001b[39m)\n\u001b[1;32m      3\u001b[0m \u001b[38;5;28;01mawait\u001b[39;00m save_schema(\u001b[38;5;124m\"\u001b[39m\u001b[38;5;124m2_moved_schema.json\u001b[39m\u001b[38;5;124m\"\u001b[39m)\n",
      "File \u001b[0;32m/opt/joule/joule/api/node/base_node.py:127\u001b[0m, in \u001b[0;36mBaseNode.data_stream_move\u001b[0;34m(self, stream, folder)\u001b[0m\n\u001b[1;32m    124\u001b[0m \u001b[38;5;28;01masync\u001b[39;00m \u001b[38;5;28;01mdef\u001b[39;00m \u001b[38;5;21mdata_stream_move\u001b[39m(\u001b[38;5;28mself\u001b[39m,\n\u001b[1;32m    125\u001b[0m                            stream: Union[DataStream, \u001b[38;5;28mstr\u001b[39m, \u001b[38;5;28mint\u001b[39m],\n\u001b[1;32m    126\u001b[0m                            folder: Union[Folder, \u001b[38;5;28mstr\u001b[39m, \u001b[38;5;28mint\u001b[39m]) \u001b[38;5;241m-\u001b[39m\u001b[38;5;241m>\u001b[39m \u001b[38;5;28;01mNone\u001b[39;00m:\n\u001b[0;32m--> 127\u001b[0m     \u001b[38;5;28;01mreturn\u001b[39;00m \u001b[38;5;28;01mawait\u001b[39;00m data_stream_move(\u001b[38;5;28mself\u001b[39m\u001b[38;5;241m.\u001b[39msession, stream, folder)\n",
      "File \u001b[0;32m/opt/joule/joule/api/data_stream.py:312\u001b[0m, in \u001b[0;36mdata_stream_move\u001b[0;34m(session, source, destination)\u001b[0m\n\u001b[1;32m    310\u001b[0m \u001b[38;5;28;01melse\u001b[39;00m:\n\u001b[1;32m    311\u001b[0m     \u001b[38;5;28;01mraise\u001b[39;00m errors\u001b[38;5;241m.\u001b[39mApiError(\u001b[38;5;124m\"\u001b[39m\u001b[38;5;124mInvalid destination datatype. Must be Folder, Path, or ID\u001b[39m\u001b[38;5;124m\"\u001b[39m)\n\u001b[0;32m--> 312\u001b[0m \u001b[38;5;28;01mawait\u001b[39;00m session\u001b[38;5;241m.\u001b[39mput(\u001b[38;5;124m\"\u001b[39m\u001b[38;5;124m/stream/move.json\u001b[39m\u001b[38;5;124m\"\u001b[39m, data)\n",
      "File \u001b[0;32m/opt/joule/joule/api/session/base_session.py:27\u001b[0m, in \u001b[0;36mBaseSession.put\u001b[0;34m(self, path, json)\u001b[0m\n\u001b[1;32m     26\u001b[0m \u001b[38;5;28;01masync\u001b[39;00m \u001b[38;5;28;01mdef\u001b[39;00m \u001b[38;5;21mput\u001b[39m(\u001b[38;5;28mself\u001b[39m, path, json):\n\u001b[0;32m---> 27\u001b[0m     \u001b[38;5;28;01mreturn\u001b[39;00m \u001b[38;5;28;01mawait\u001b[39;00m \u001b[38;5;28mself\u001b[39m\u001b[38;5;241m.\u001b[39m_request(\u001b[38;5;124m\"\u001b[39m\u001b[38;5;124mPUT\u001b[39m\u001b[38;5;124m\"\u001b[39m, path, json\u001b[38;5;241m=\u001b[39mjson)\n",
      "File \u001b[0;32m/opt/joule/joule/api/session/tcp_session.py:62\u001b[0m, in \u001b[0;36mTcpSession._request\u001b[0;34m(self, method, path, data, json, params, chunked)\u001b[0m\n\u001b[1;32m     60\u001b[0m         \u001b[38;5;28;01mawait\u001b[39;00m asyncio\u001b[38;5;241m.\u001b[39msleep(RETRY_DELAY)\n\u001b[1;32m     61\u001b[0m         \u001b[38;5;28;01mcontinue\u001b[39;00m  \u001b[38;5;66;03m# retry\u001b[39;00m\n\u001b[0;32m---> 62\u001b[0m     \u001b[38;5;28;01mraise\u001b[39;00m errors\u001b[38;5;241m.\u001b[39mApiError(\u001b[38;5;124m\"\u001b[39m\u001b[38;5;132;01m%s\u001b[39;00m\u001b[38;5;124m [\u001b[39m\u001b[38;5;132;01m%d\u001b[39;00m\u001b[38;5;124m]\u001b[39m\u001b[38;5;124m\"\u001b[39m \u001b[38;5;241m%\u001b[39m (msg, resp\u001b[38;5;241m.\u001b[39mstatus))\n\u001b[1;32m     63\u001b[0m \u001b[38;5;28;01mif\u001b[39;00m resp\u001b[38;5;241m.\u001b[39mcontent_type \u001b[38;5;241m!=\u001b[39m \u001b[38;5;124m'\u001b[39m\u001b[38;5;124mapplication/json\u001b[39m\u001b[38;5;124m'\u001b[39m:\n\u001b[1;32m     64\u001b[0m     body \u001b[38;5;241m=\u001b[39m \u001b[38;5;28;01mawait\u001b[39;00m resp\u001b[38;5;241m.\u001b[39mtext()\n",
      "\u001b[0;31mApiError\u001b[0m: stream with the same name exists in the destination folder [400]"
     ]
    }
   ],
   "source": [
    "await node.data_stream_move(stream_1_2, \"/folder_4/folder_4_1\")\n",
    "await node.folder_move(\"/folder_3\",\"/folder_4\")\n",
    "await save_schema(\"2_moved_schema.json\")"
   ]
  },
  {
   "cell_type": "markdown",
   "id": "99aa77d1-5b32-41ee-a45c-61cda682438a",
   "metadata": {},
   "source": [
    "*Delete folders and streams*\n",
    "\n",
    "<pre>\n",
    "root\n",
    "├── folder_1\n",
    "│   └── stream_1_1: float32_3\n",
    "├── <== removed ==>\n",
    "└── folder_4\n",
    "    └── folder_4_1\n",
    "    │   └── updated_name: uint8_3\n",
    "    │   └── loads (event stream) <== moved to\n",
    "    └── folder_3               \n",
    "        ├── folder_3_1\n",
    "        │   └── stream_3_1_1: int32_3\n",
    "        └── <== removed ==>\n",
    "</pre>\n"
   ]
  },
  {
   "cell_type": "code",
   "execution_count": 17,
   "id": "8e486e6a-9521-4890-b71e-41f4bcf2fcd2",
   "metadata": {},
   "outputs": [
    {
     "name": "stderr",
     "output_type": "stream",
     "text": [
      "/home/ubuntu/joule/lib/python3.10/site-packages/urllib3/connectionpool.py:1095: InsecureRequestWarning: Unverified HTTPS request is being made to host '127.0.0.1'. Adding certificate verification is strongly advised. See: https://urllib3.readthedocs.io/en/latest/advanced-usage.html#tls-warnings\n",
      "  warnings.warn(\n"
     ]
    }
   ],
   "source": [
    "await node.event_stream_move(load_events,\"/folder_4/folder_4_1\")\n",
    "await node.folder_delete(\"/folder_2\")\n",
    "await node.data_stream_delete(stream_3_1)\n",
    "await save_schema(\"3_deleted_schema.json\")"
   ]
  },
  {
   "cell_type": "markdown",
   "id": "d9ea1f6d-2454-45d9-82e7-f40ea60f6280",
   "metadata": {},
   "source": [
    "*Add new folders and streams*\n",
    "\n",
    "<pre>\n",
    "root\n",
    "├── new <== new folder with streams\n",
    "│   └── new_data_stream:float32_1\n",
    "│   └── new_event_stream\n",
    "├── folder_1\n",
    "│   └── stream_1_1: float32_3\n",
    "└── folder_4\n",
    "    └── folder_4_1\n",
    "    │   └── stream_2_1: uint8_3\n",
    "    │   └── loads (event stream)\n",
    "    └── folder_3               \n",
    "        └── folder_3_1\n",
    "            └── stream_3_1_1: int32_3\n",
    "</pre>"
   ]
  },
  {
   "cell_type": "code",
   "execution_count": 18,
   "id": "27d91f25-929f-46cf-81da-7f28cd5e4f7d",
   "metadata": {},
   "outputs": [
    {
     "name": "stderr",
     "output_type": "stream",
     "text": [
      "/home/ubuntu/joule/lib/python3.10/site-packages/urllib3/connectionpool.py:1095: InsecureRequestWarning: Unverified HTTPS request is being made to host '127.0.0.1'. Adding certificate verification is strongly advised. See: https://urllib3.readthedocs.io/en/latest/advanced-usage.html#tls-warnings\n",
      "  warnings.warn(\n"
     ]
    }
   ],
   "source": [
    "new_data_stream = joule.api.DataStream(\"new_data_stream\",elements=[joule.api.Element(f\"{i}\") for i in range(1)])\n",
    "new_event_stream = joule.api.EventStream(\"new_event_stream\",event_fields={\"test\":\"string\"})\n",
    "\n",
    "load_events = await node.event_stream_create(new_event_stream, \"/new\")\n",
    "new_data_stream = await node.data_stream_create(new_data_stream, \"/new\")\n",
    "await save_schema(\"4_added_schema.json\")\n",
    "await node.close()"
   ]
  },
  {
   "cell_type": "code",
   "execution_count": null,
   "id": "bb86311e-f014-4c28-b48a-aac4dabd1fec",
   "metadata": {},
   "outputs": [],
   "source": []
  }
 ],
 "metadata": {
  "kernelspec": {
   "display_name": "Python 3 (ipykernel)",
   "language": "python",
   "name": "python3"
  },
  "language_info": {
   "codemirror_mode": {
    "name": "ipython",
    "version": 3
   },
   "file_extension": ".py",
   "mimetype": "text/x-python",
   "name": "python",
   "nbconvert_exporter": "python",
   "pygments_lexer": "ipython3",
   "version": "3.10.6"
  }
 },
 "nbformat": 4,
 "nbformat_minor": 5
}
